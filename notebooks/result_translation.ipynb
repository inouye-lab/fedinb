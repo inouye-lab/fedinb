{
 "cells": [
  {
   "cell_type": "code",
   "execution_count": null,
   "id": "34214b6c",
   "metadata": {},
   "outputs": [],
   "source": [
    "import sys\n",
    "import os\n",
    "import matplotlib.pyplot as plt\n",
    "import torch\n",
    "import numpy as np"
   ]
  },
  {
   "cell_type": "code",
   "execution_count": null,
   "id": "5d6dd304",
   "metadata": {},
   "outputs": [],
   "source": [
    "init_stat_dir = '../saved/translation'"
   ]
  },
  {
   "cell_type": "code",
   "execution_count": null,
   "id": "5ab98c96",
   "metadata": {},
   "outputs": [],
   "source": [
    "tick_size = 23\n",
    "caption_size = 20\n",
    "plt.rcParams.update({\n",
    "    \"xtick.labelsize\": tick_size,\n",
    "    \"xtick.labelsize\": tick_size,\n",
    "\"font.size\": tick_size,\n",
    "    \"font.family\":\"sans-serif\"\n",
    "})"
   ]
  },
  {
   "cell_type": "code",
   "execution_count": null,
   "id": "1e54e276",
   "metadata": {},
   "outputs": [],
   "source": [
    "def load_n(stats,name,class_list=list(range(10)),rm=[],rep=[]):\n",
    "    tracker = []\n",
    "    old_n = 0\n",
    "    for classes in class_list:\n",
    "        mats = stats[classes][name]\n",
    "        cls_tracker = []\n",
    "        for i,mat in enumerate(mats):\n",
    "            if i not in rm:\n",
    "                cls_tracker.append(mat)\n",
    "            if i in rep:\n",
    "                cls_tracker.append(mat)\n",
    "        cls_tracker = torch.Tensor(cls_tracker).unsqueeze(1)\n",
    "        tracker.append(torch.Tensor(cls_tracker).unsqueeze(1))\n",
    "    tracker = torch.cat(tracker,dim=1)\n",
    "    return tracker\n",
    "\n",
    "\n",
    "def load_data(stats,name,class_list=list(range(10)),rm=[],rep=[],mean=False):\n",
    "    tracker = []\n",
    "    for classes in class_list:\n",
    "        mats = stats[classes][name]\n",
    "        cls_tracker = []\n",
    "        for i,mat in enumerate(mats):\n",
    "            if i not in rm:\n",
    "                if mean:\n",
    "                    cls_tracker.append(torch.mean(mat))\n",
    "                else:\n",
    "                    cls_tracker.append(mat)\n",
    "            if i in rep:\n",
    "                cls_tracker.append(torch.mean(mat))\n",
    "        cls_tracker = torch.Tensor(cls_tracker)   \n",
    "        cls_tracker = cls_tracker.unsqueeze(1)\n",
    "        tracker.append(cls_tracker)\n",
    "\n",
    "    tracker = torch.cat(tracker,dim=1)\n",
    "    return tracker"
   ]
  },
  {
   "cell_type": "markdown",
   "id": "5c31d187",
   "metadata": {},
   "source": [
    "## Investigation of J"
   ]
  },
  {
   "cell_type": "code",
   "execution_count": null,
   "id": "1781c738",
   "metadata": {},
   "outputs": [],
   "source": [
    "\n",
    "def gen_plot(model_list,param_list,dataset,lim1=None,lim2=None,label=None):\n",
    "#    fig,axs = plt.subplots(1,2,figsize=(12,4))\n",
    "    fig,axs = plt.subplots(1,1,figsize=(6,4))\n",
    "    for model,param in zip(model_list,param_list):\n",
    "        for i,param in enumerate(param_list):\n",
    "            model_path  = 'torch' + model\n",
    "            stat_dir = os.path.join(init_stat_dir,f'{dataset}/{model}_{param}')\n",
    "            stat_dir = os.path.join(stat_dir,'metric.pt')\n",
    "\n",
    "            stats = torch.load(stat_dir)\n",
    "\n",
    "            if model == 'inb':\n",
    "                n = load_n(stats,'nparams')\n",
    "            else:\n",
    "                n = load_n(stats,'nparams',rm=[0])\n",
    "\n",
    "\n",
    "\n",
    "            if model == 'inb':\n",
    "                wd = load_data(stats,'wd',mean=True)\n",
    "            else:\n",
    "                wd = load_data(stats,'wd',mean=True,rm=[0])\n",
    "                \n",
    "            n = torch.sum(n,dim=1)/5 # per client\n",
    "            wd = torch.mean(wd,dim=1)\n",
    "            \n",
    "            print(n)\n",
    "            print('n:',n.shape)\n",
    "            print('wd:',wd.shape)\n",
    "                \n",
    "            axs.plot(n,wd,label=f'J={label[i]}')\n",
    "#                axs.set_title(f'{modelname[model]}')\n",
    "            axs.set_title(f'HistIndAEINB: J')\n",
    "            axs.set_xlabel('Communication Cost \\n(# params sent)')\n",
    "            #axs.set_ylabel('Average Waserstein Distance')\n",
    "            axs.set_ylabel('Avg. Wasserstein-2')\n",
    "\n",
    "    axs.grid(True,alpha=1)\n",
    "    axs.legend(prop={'size': caption_size},fancybox=True, framealpha=0.3)\n",
    "    axs.set_ylim(lim1)\n",
    "\n",
    "    plt.show()\n"
   ]
  },
  {
   "cell_type": "markdown",
   "id": "9799386d",
   "metadata": {},
   "source": [
    "### RMNIST"
   ]
  },
  {
   "cell_type": "code",
   "execution_count": null,
   "id": "434a9040",
   "metadata": {},
   "outputs": [],
   "source": [
    "model_list = ['histindaeinb']\n",
    "J_list = [200,100,50,30,10]\n",
    "param_list = [f'10_10_{J}_500' for J in J_list]\n",
    "dataset = 'rmnist'\n",
    "gen_plot(model_list,param_list,dataset,label=J_list)\n",
    "#gen_plot(model_list,param_list,target_list, class_list,lim1=(26.5,28),lim2=(98,110))"
   ]
  },
  {
   "cell_type": "markdown",
   "id": "38cf4f81",
   "metadata": {},
   "source": [
    "### RFMNIST"
   ]
  },
  {
   "cell_type": "code",
   "execution_count": null,
   "id": "0fc519e5",
   "metadata": {},
   "outputs": [],
   "source": [
    "model_list = ['histindaeinb']\n",
    "J_list = [200,100,50,30,10]\n",
    "J_list = [50,30,10]\n",
    "param_list = [f'10_10_{J}_500' for J in J_list]\n",
    "dataset = 'rfmnist'\n",
    "gen_plot(model_list,param_list,dataset,label=J_list)\n",
    "#gen_plot(model_list,param_list,target_list, class_list,lim1=(26.5,28),lim2=(98,110))"
   ]
  }
 ],
 "metadata": {
  "kernelspec": {
   "display_name": "Python [conda env:myml] *",
   "language": "python",
   "name": "conda-env-myml-py"
  },
  "language_info": {
   "codemirror_mode": {
    "name": "ipython",
    "version": 3
   },
   "file_extension": ".py",
   "mimetype": "text/x-python",
   "name": "python",
   "nbconvert_exporter": "python",
   "pygments_lexer": "ipython3",
   "version": "3.9.12"
  },
  "toc": {
   "base_numbering": 1,
   "nav_menu": {},
   "number_sections": true,
   "sideBar": true,
   "skip_h1_title": false,
   "title_cell": "Table of Contents",
   "title_sidebar": "Contents",
   "toc_cell": false,
   "toc_position": {},
   "toc_section_display": true,
   "toc_window_display": false
  }
 },
 "nbformat": 4,
 "nbformat_minor": 5
}
